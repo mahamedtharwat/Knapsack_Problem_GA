{
 "cells": [
  {
   "cell_type": "code",
   "execution_count": 1,
   "id": "7a4c1466",
   "metadata": {},
   "outputs": [],
   "source": [
    "import numpy as np"
   ]
  },
  {
   "cell_type": "code",
   "execution_count": 2,
   "id": "4fd47de2",
   "metadata": {},
   "outputs": [],
   "source": [
    "# Fitness function \n",
    "def evaluate_fitness(chromosome, weights, benefits, capacity):\n",
    "    total_weight = np.sum(chromosome * weights)\n",
    "    if total_weight > capacity:\n",
    "        return 0  # Invalid solution\n",
    "    return np.sum(chromosome * benefits)"
   ]
  },
  {
   "cell_type": "code",
   "execution_count": 3,
   "id": "a545ce79",
   "metadata": {},
   "outputs": [],
   "source": [
    "# Generate population\n",
    "def generate_population(pop_size, num_items):\n",
    "    return np.random.randint(2, size=(pop_size, num_items))"
   ]
  },
  {
   "cell_type": "code",
   "execution_count": 4,
   "id": "98f80019",
   "metadata": {},
   "outputs": [],
   "source": [
    "# Selection\n",
    "def roulette_wheel_selection(population, fitness_values):\n",
    "    probs = fitness_values / np.sum(fitness_values)\n",
    "    selected_indices = np.random.choice(len(population), size=2, p=probs, replace=True)\n",
    "    return population[selected_indices]"
   ]
  },
  {
   "cell_type": "code",
   "execution_count": 5,
   "id": "35246db6",
   "metadata": {},
   "outputs": [],
   "source": [
    "# Crossover\n",
    "def do_crossover(parent1, parent2):\n",
    "    point = np.random.randint(1, len(parent1) - 1)  # Crossover point\n",
    "    child1 = np.concatenate((parent1[:point], parent2[point:]))\n",
    "    child2 = np.concatenate((parent2[:point], parent1[point:]))\n",
    "    return child1, child2"
   ]
  },
  {
   "cell_type": "code",
   "execution_count": 6,
   "id": "fbcde395",
   "metadata": {},
   "outputs": [],
   "source": [
    "# Mutation\n",
    "def do_mutation(chromosome, mutation_rate):\n",
    "    mutation_mask = np.random.rand(len(chromosome)) < mutation_rate\n",
    "    chromosome[mutation_mask] = 1 - chromosome[mutation_mask]\n",
    "    return chromosome"
   ]
  },
  {
   "cell_type": "code",
   "execution_count": 7,
   "id": "4dd0102a",
   "metadata": {},
   "outputs": [],
   "source": [
    "# Genetic Algorithm\n",
    "def knapsack_ga(weights, benefits, capacity, num_generations=100, pop_size=50, mutation_rate=0.01):\n",
    "    num_items = len(weights)\n",
    "    population = generate_population(pop_size, num_items)\n",
    "\n",
    "    for gen in range(num_generations):\n",
    "        fitness_values = np.array([evaluate_fitness(ind, weights, benefits, capacity) for ind in population])\n",
    "        new_population = np.zeros_like(population)\n",
    "\n",
    "        for i in range(0, pop_size, 2):\n",
    "            parents = roulette_wheel_selection(population, fitness_values)\n",
    "            offspring1, offspring2 = do_crossover(parents[0], parents[1])\n",
    "            \n",
    "            new_population[i] = do_mutation(offspring1, mutation_rate)\n",
    "            if i + 1 < pop_size:\n",
    "                new_population[i + 1] = do_mutation(offspring2, mutation_rate)\n",
    "        \n",
    "        population = new_population\n",
    "\n",
    "    fitness_values = np.array([evaluate_fitness(ind, weights, benefits, capacity) for ind in population])\n",
    "    best_idx = np.argmax(fitness_values)\n",
    "    best_solution = population[best_idx]\n",
    "\n",
    "    return {\n",
    "        \"total_benefit\": fitness_values[best_idx],\n",
    "        \"selected_items\": np.where(best_solution == 1)[0],\n",
    "        \"solution\": best_solution\n",
    "    }"
   ]
  },
  {
   "cell_type": "code",
   "execution_count": 8,
   "id": "a23e13ce",
   "metadata": {},
   "outputs": [],
   "source": [
    "# Function to dynamically read input data\n",
    "def read_input():\n",
    "    num_cases = int(input(\"Enter the number of test cases: \"))\n",
    "    input_data = []\n",
    "\n",
    "    for case_id in range(1, num_cases + 1):\n",
    "        print(f\"Test case {case_id} - Enter the number of items:\")\n",
    "        num_items = int(input())\n",
    "        \n",
    "        print(f\"Test case {case_id} - Enter the knapsack capacity:\")\n",
    "        capacity = int(input())\n",
    "        \n",
    "        print(f\"Test case {case_id} - Enter item weights and benefits (e.g., '4 4') for each item:\")\n",
    "        items = []\n",
    "        for _ in range(num_items):\n",
    "            items.append(list(map(int, input().split())))\n",
    "        \n",
    "        input_data.append({\n",
    "            \"num_items\": num_items,\n",
    "            \"capacity\": capacity,\n",
    "            \"items\": items\n",
    "        })\n",
    "\n",
    "    return input_data"
   ]
  },
  {
   "cell_type": "code",
   "execution_count": 9,
   "id": "7f9a0534",
   "metadata": {},
   "outputs": [],
   "source": [
    "# Run the knapsack test cases\n",
    "def run_knapsack_tests(input_data):\n",
    "    for case_id, case in enumerate(input_data, start=1):\n",
    "        num_items = case[\"num_items\"]\n",
    "        capacity = case[\"capacity\"]\n",
    "        items = np.array(case[\"items\"])\n",
    "        \n",
    "        weights = items[:, 0]\n",
    "        benefits = items[:, 1]\n",
    "\n",
    "        # Run genetic algorithm\n",
    "        result = knapsack_ga(weights, benefits, capacity)\n",
    "\n",
    "        # Output results\n",
    "        print(f\"Case {case_id}: {result['total_benefit']}\")\n",
    "        print(len(result['selected_items']))\n",
    "        for item_idx in result['selected_items']:\n",
    "            print(weights[item_idx], benefits[item_idx])"
   ]
  },
  {
   "cell_type": "code",
   "execution_count": 10,
   "id": "a18b536d",
   "metadata": {},
   "outputs": [],
   "source": [
    "# Main Function\n",
    "def main():\n",
    "    input_data = read_input()\n",
    "    run_knapsack_tests(input_data)"
   ]
  },
  {
   "cell_type": "code",
   "execution_count": null,
   "id": "9797f8c9",
   "metadata": {
    "scrolled": true
   },
   "outputs": [
    {
     "name": "stdout",
     "output_type": "stream",
     "text": [
      "Enter the number of test cases: 1\n",
      "Test case 1 - Enter the number of items:\n",
      "3\n",
      "Test case 1 - Enter the knapsack capacity:\n",
      "10\n",
      "Test case 1 - Enter item weights and benefits (e.g., '4 4') for each item:\n"
     ]
    }
   ],
   "source": [
    "# Run the program\n",
    "if __name__ == \"__main__\":\n",
    "    main()"
   ]
  },
  {
   "cell_type": "code",
   "execution_count": null,
   "id": "e7f391bb",
   "metadata": {},
   "outputs": [],
   "source": []
  }
 ],
 "metadata": {
  "kernelspec": {
   "display_name": "Python 3 (ipykernel)",
   "language": "python",
   "name": "python3"
  },
  "language_info": {
   "codemirror_mode": {
    "name": "ipython",
    "version": 3
   },
   "file_extension": ".py",
   "mimetype": "text/x-python",
   "name": "python",
   "nbconvert_exporter": "python",
   "pygments_lexer": "ipython3",
   "version": "3.11.4"
  }
 },
 "nbformat": 4,
 "nbformat_minor": 5
}
